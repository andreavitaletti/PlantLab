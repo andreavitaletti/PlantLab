{
 "metadata": {
  "name": "Analyse_data"
 },
 "nbformat": 3,
 "nbformat_minor": 0,
 "worksheets": [
  {
   "cells": [
    {
     "cell_type": "code",
     "collapsed": false,
     "input": [
      "import Tkinter, tkFileDialog\n",
      "\n",
      "root = Tkinter.Tk()\n",
      "root.withdraw()\n",
      "\n",
      "file_path = tkFileDialog.askopenfilename()\n",
      "print file_path"
     ],
     "language": "python",
     "metadata": {},
     "outputs": [
      {
       "output_type": "stream",
       "stream": "stdout",
       "text": [
        "/home/andrea/Software/PlantLab/datasets/info 2013-05-03 15:46:06.555081.xml\n"
       ]
      }
     ],
     "prompt_number": 9
    },
    {
     "cell_type": "code",
     "collapsed": false,
     "input": [
      "from xml.dom.minidom import parse, parseString\n",
      "\n",
      "xmldoc = parse(file_path)\n",
      "filelist = xmldoc.getElementsByTagName('file')\n",
      "\n",
      "fileAIN0 = filelist[0].attributes['value'].value\n",
      "print fileAIN0\n",
      "fileAIN1 = filelist[1].attributes['value'].value\n",
      "print fileAIN1"
     ],
     "language": "python",
     "metadata": {},
     "outputs": [
      {
       "output_type": "stream",
       "stream": "stdout",
       "text": [
        "datasets/ain0 2013-05-03 15:46:06.555081\n",
        "datasets/ain1 2013-05-03 15:46:06.555081\n"
       ]
      }
     ],
     "prompt_number": 26
    },
    {
     "cell_type": "code",
     "collapsed": false,
     "input": [
      "datafile = open(fileAIN0, 'r')\n",
      "data = []\n",
      "for row in datafile:\n",
      "    data.append(row.strip().split(','))"
     ],
     "language": "python",
     "metadata": {},
     "outputs": [],
     "prompt_number": 27
    },
    {
     "cell_type": "code",
     "collapsed": false,
     "input": [
      "plot(data)"
     ],
     "language": "python",
     "metadata": {},
     "outputs": [
      {
       "output_type": "pyout",
       "prompt_number": 28,
       "text": [
        "[<matplotlib.lines.Line2D at 0x5298250>]"
       ]
      },
      {
       "output_type": "display_data",
       "png": "[encoded data removed]"
      }
     ],
     "prompt_number": 28
    },
    {
     "cell_type": "code",
     "collapsed": false,
     "input": [
      "datafile = open(fileAIN1, 'r')\n",
      "data = []\n",
      "for row in datafile:\n",
      "    data.append(row.strip().split(','))"
     ],
     "language": "python",
     "metadata": {},
     "outputs": [],
     "prompt_number": 29
    },
    {
     "cell_type": "code",
     "collapsed": false,
     "input": [
      "plot(data)"
     ],
     "language": "python",
     "metadata": {},
     "outputs": [
      {
       "output_type": "pyout",
       "prompt_number": 30,
       "text": [
        "[<matplotlib.lines.Line2D at 0x46da850>]"
       ]
      },
      {
       "output_type": "display_data",
       "png": "[encoded data removed]"
      }
     ],
     "prompt_number": 30
    },
    {
     "cell_type": "code",
     "collapsed": false,
     "input": [],
     "language": "python",
     "metadata": {},
     "outputs": [],
     "prompt_number": 30
    },
    {
     "cell_type": "code",
     "collapsed": false,
     "input": [],
     "language": "python",
     "metadata": {},
     "outputs": []
    }
   ],
   "metadata": {}
  }
 ]
}